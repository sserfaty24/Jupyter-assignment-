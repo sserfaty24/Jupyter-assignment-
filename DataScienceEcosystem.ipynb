{
 "cells": [
  {
   "cell_type": "markdown",
   "id": "53b64e58",
   "metadata": {},
   "source": [
    "# Data Science Tools and Ecosystem"
   ]
  },
  {
   "cell_type": "markdown",
   "id": "385b569c",
   "metadata": {},
   "source": [
    "In this notebook, Data Science Tools and Ecosystem are summarized."
   ]
  },
  {
   "cell_type": "markdown",
   "id": "91f70386",
   "metadata": {},
   "source": [
    "Some of the popular languages that Data Scientists use are:\n",
    " - Python \n",
    " - R \n",
    " - Julia \n",
    " - SQL "
   ]
  },
  {
   "cell_type": "markdown",
   "id": "5179f684",
   "metadata": {},
   "source": [
    "Some of the commonly used libraries used by Data Scientists include:\n",
    "    \n",
    "- pandas \n",
    "- Numpy\n",
    "- TensorFlow\n",
    "- ggplot2"
   ]
  },
  {
   "cell_type": "markdown",
   "id": "cd34e612",
   "metadata": {},
   "source": [
    "Data Science Tools\n",
    "\n",
    "- Anaconda \n",
    "- Rstudio \n",
    "- Jupyter Notebook \n",
    "- VS Code "
   ]
  },
  {
   "cell_type": "markdown",
   "id": "6b4089f3",
   "metadata": {},
   "source": [
    "### Here few example of arithmethic expression with python "
   ]
  },
  {
   "cell_type": "code",
   "execution_count": 25,
   "id": "e8608339",
   "metadata": {},
   "outputs": [
    {
     "data": {
      "text/plain": [
       "17"
      ]
     },
     "execution_count": 25,
     "metadata": {},
     "output_type": "execute_result"
    }
   ],
   "source": [
    "#Here a simple example of multiplication and addition \n",
    "(3*4)+5"
   ]
  },
  {
   "cell_type": "code",
   "execution_count": 26,
   "id": "f4adcd2f",
   "metadata": {},
   "outputs": [
    {
     "data": {
      "text/plain": [
       "3.3333333333333335"
      ]
     },
     "execution_count": 26,
     "metadata": {},
     "output_type": "execute_result"
    }
   ],
   "source": [
    "hours= 60 \n",
    "200/60\n",
    "#here we are calculating how many hours there are in 200 minutes  "
   ]
  },
  {
   "cell_type": "markdown",
   "id": "f3b71174",
   "metadata": {},
   "source": [
    "**Objectives:**\n",
    "- Data Science Tools \n",
    "- Libraries used in Data Science \n",
    "- Arithmetic expression with python\n",
    "- Popular coding languages used in data science "
   ]
  },
  {
   "cell_type": "markdown",
   "id": "4c374e96",
   "metadata": {},
   "source": [
    "## Author \n",
    "Salvador Serfaty"
   ]
  }
 ],
 "metadata": {
  "kernelspec": {
   "display_name": "Python 3 (ipykernel)",
   "language": "python",
   "name": "python3"
  },
  "language_info": {
   "codemirror_mode": {
    "name": "ipython",
    "version": 3
   },
   "file_extension": ".py",
   "mimetype": "text/x-python",
   "name": "python",
   "nbconvert_exporter": "python",
   "pygments_lexer": "ipython3",
   "version": "3.11.5"
  }
 },
 "nbformat": 4,
 "nbformat_minor": 5
}
